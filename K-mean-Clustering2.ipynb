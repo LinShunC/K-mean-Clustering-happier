{
 "cells": [
  {
   "cell_type": "code",
   "execution_count": 2,
   "metadata": {},
   "outputs": [],
   "source": [
    "from sklearn.cluster import KMeans\n",
    "import pandas as pd\n",
    "from sklearn.preprocessing import MinMaxScaler\n",
    "import matplotlib.pyplot as plt\n",
    "from sklearn.model_selection import train_test_split\n",
    "%matplotlib inline"
   ]
  },
  {
   "cell_type": "code",
   "execution_count": 18,
   "metadata": {},
   "outputs": [],
   "source": [
    "   df = pd.DataFrame(\n",
    "                \n",
    "                         {    'heartrate':  [98,88,98,98,47,36,125,115,94,58,147,117,115,114,134,143,114,65,106],\n",
    "                          \"happy\":[12,2,22,62,53,64,75,85,89,52,53,53,35,26,46,57,86,8,1],\n",
    "                           \"clam\":  [1,2,1,4,10,7,1,1,1,14,10,7,4,4,5,5,1,2,1],\n",
    "                            \"sad\":  [59,56,14,4,8,7,2,1,1,5,2,5,1,2,2,3,1,70,5],\n",
    "                          \"angry\":  [10,1,51,2,2,5,3,1,1,2,5,6,1,2,8,12,2,5,8],\n",
    "                             \"fear\":  [1,2,1,4,7,7,1,1,1,10,3,3,3,3,3,6,1,1,2],\n",
    "                          \"confused\": [3,29,3,2,6,2,3,3,1,8,6,6,1,1,4,4,1,31,5],\n",
    "                   \"suprised\":[8,2,3,20,10,7,13,7,5,8,20,16,54,60,30,13,7,1,3],\n",
    "                              \"disgust\":[6,6,5,2,4,1,2,1,1,1,1,4,1,2,2,2,1,2,75],\n",
    "                  }\n",
    "                    \n",
    "                 )\n",
    "\n",
    "   "
   ]
  },
  {
   "cell_type": "code",
   "execution_count": 19,
   "metadata": {},
   "outputs": [],
   "source": [
    "km = KMeans(n_clusters=3)"
   ]
  },
  {
   "cell_type": "code",
   "execution_count": 20,
   "metadata": {},
   "outputs": [],
   "source": [
    "y_predict = km.fit_predict(df[['happy','heartrate','sad','clam','angry','fear','confused','suprised','disgust']])"
   ]
  },
  {
   "cell_type": "code",
   "execution_count": 42,
   "metadata": {},
   "outputs": [
    {
     "name": "stdout",
     "output_type": "stream",
     "text": [
      "df1 is the best!!!\n"
     ]
    }
   ],
   "source": [
    "def GetCategory (confidence,heartrate):\n",
    "    df['cluster']=y_predict\n",
    "    df1=df[df.cluster==0]\n",
    "    df2=df[df.cluster==1]\n",
    "    df3=df[df.cluster==2]\n",
    "    # draw the graph\n",
    "    # plt.scatter(df1.happy,df1['heartrate'],color='green')\n",
    "    # plt.scatter(df2.happy,df2['heartrate'],color='red')\n",
    "    # plt.scatter(df3.happy,df3['heartrate'],color='blue')\n",
    "    # plt.scatter(km.cluster_centers_[:,0],km.cluster_centers_[:,1],color='purple',marker='*',label='centroid')\n",
    "    # plt.xlabel('happy')\n",
    "    # plt.ylabel('heartrate')\n",
    "    # plt.legend()\n",
    "    # return the category with highest number\n",
    "    if len(df1)>len(df2) and len(df1)>len(df3):\n",
    "        print(\"df1 is the best!!!\")\n",
    "        return(df1)\n",
    "        \n",
    "    elif len(df2)>len(df1) and len(df2)>len(df3):\n",
    "        print(\"df2 is the best!!!\")\n",
    "        return(df2)\n",
    "    else:\n",
    "        print(\"df3 is the best!!!\")\n",
    "        return(df3)\n",
    "\n",
    "\n",
    "#else:\n",
    "                                        #return(df3)\n",
    "data=GetCategory(1,2)  "
   ]
  },
  {
   "cell_type": "code",
   "execution_count": 45,
   "metadata": {},
   "outputs": [
    {
     "name": "stdout",
     "output_type": "stream",
     "text": [
      "57.8\n",
      "122.2\n",
      "low\n"
     ]
    }
   ],
   "source": [
    "print(data['happy'].mean())\n",
    "print(data['heartrate'].mean())\n",
    "\n",
    "def DefineRiskLevel ():\n",
    "    if data['happy'].mean() >=55: #and data['heartrate'].mean()>80:\n",
    "        return \"low\"\n",
    "    elif 40<=data['happy'].mean()<55: #and data['heartrate'].mean()<90:\n",
    "        return \"medium\"\n",
    "    elif data['happy'].mean() <40: #and data['heartrate'].mean()<90:\n",
    "        return \"high\"\n",
    "\n",
    "risklevel = DefineRiskLevel()\n",
    "print(risklevel)"
   ]
  },
  {
   "cell_type": "code",
   "execution_count": 46,
   "metadata": {},
   "outputs": [
    {
     "data": {
      "text/plain": [
       "array([0, 0, 1, 2], dtype=int32)"
      ]
     },
     "execution_count": 46,
     "metadata": {},
     "output_type": "execute_result"
    }
   ],
   "source": [
    "# train the model\n",
    "x=df[['happy','heartrate','sad','clam','angry','fear','confused','suprised','disgust']]\n",
    "y=df[['cluster']]\n",
    "x_train,x_test,y_train,y_test = train_test_split(x,y,test_size=0.2,random_state=10)\n",
    "km.fit(x_train,y_train)\n",
    "km.predict(x_test)\n"
   ]
  },
  {
   "cell_type": "code",
   "execution_count": null,
   "metadata": {},
   "outputs": [],
   "source": []
  }
 ],
 "metadata": {
  "kernelspec": {
   "display_name": "Python 3.7 (tensorflow)",
   "language": "python",
   "name": "tensorflow"
  },
  "language_info": {
   "codemirror_mode": {
    "name": "ipython",
    "version": 3
   },
   "file_extension": ".py",
   "mimetype": "text/x-python",
   "name": "python",
   "nbconvert_exporter": "python",
   "pygments_lexer": "ipython3",
   "version": "3.7.7"
  }
 },
 "nbformat": 4,
 "nbformat_minor": 4
}
